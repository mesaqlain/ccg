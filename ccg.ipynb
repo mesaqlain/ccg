{
 "cells": [
  {
   "cell_type": "code",
   "execution_count": 5,
   "id": "4cb94516-846c-483e-93ad-4b24157db18e",
   "metadata": {
    "tags": []
   },
   "outputs": [],
   "source": [
    "import random\n",
    "from enum import Enum"
   ]
  },
  {
   "cell_type": "markdown",
   "id": "fcfe7f50-88a5-4ae2-8169-9b934a13779a",
   "metadata": {},
   "source": [
    "## ENUMS FOR CARD CLASS"
   ]
  },
  {
   "cell_type": "code",
   "execution_count": 6,
   "id": "1edbbc19-c0fe-46df-abb3-b7e012c2da43",
   "metadata": {
    "tags": []
   },
   "outputs": [],
   "source": [
    "# Define Card Type Enum\n",
    "class CardType(Enum):\n",
    "    COMBAT = 'Combat Card'\n",
    "    NON_COMBAT = 'Non-Combat Card'\n",
    "    DRAGON_BALL = 'Dragon Ball'\n",
    "    PERSONALITY = 'Personality'\n",
    "    MASTERY = 'Mastery'\n",
    "    \n",
    "class CombatCardType(Enum):\n",
    "    ENERGY_COMBAT = 'Energy Combat'\n",
    "    PHYSICAL_COMBAT = 'Physical Combat'\n",
    "    EVENT_COMBAT = 'Event Combat'\n",
    "\n",
    "class NonCombatCardType(Enum):\n",
    "    SETUP = 'Non-Combat: Setup'\n",
    "    DRILL = 'Non-Combat: Drill'\n",
    "\n",
    "class PersonalityCardType(Enum):\n",
    "    HERO = 'Hero'\n",
    "    VILLAIN = 'Villain'\n",
    "    ROGUE = 'Rogue'\n",
    "    ALLY = 'Ally'    \n",
    "\n",
    "\n",
    "# Define Card Effect Enum\n",
    "class EffectType(Enum):\n",
    "    ATTACK = 'Attack Type Card' # Used for performing attacks\n",
    "    DEFENSE = 'Defense Type Card' # Used for defending against attacks\n",
    "    ACTIVE_POWER = 'Activate Power' # Activates some effect immediately\n",
    "    CONSTANT_POWER = 'Constant Power' # Stays in play and applies some effect consinuously\n",
    "    \n",
    "    \n",
    "# Define Attack Type Enum\n",
    "class AttackType(Enum):\n",
    "    ENERGY_ATTACK = 'Energy Attack'\n",
    "    PHYSICAL_ATTACK = 'Physical Attack'\n",
    "    \n",
    "\n",
    "# Define Card Style Enum\n",
    "class CardStyle(Enum):\n",
    "    SAIYAN_STYLE = \"Saiyan Style\"\n",
    "    NAMEKIAN_STYLE = \"Namekian Style\"\n",
    "    RED_STYLE = \"Red Style\"\n",
    "    BLACK_STYLE = \"Black Style\"\n",
    "    BLUE_STYLE = \"Blue Style\"\n",
    "    ORANGE_STYLE = \"Orange Style\"\n",
    "    FREESTYLE = \"Freestyle\"\n",
    "    \n",
    "    \n",
    "# Define Card Rarity ENUM\n",
    "class CardRarity(Enum):\n",
    "    COMMON = 'Common'\n",
    "    UNCOMMON = 'Uncommon'\n",
    "    RARE = 'Rare'\n",
    "    ULTRA_RATE = 'Ultra Rare'\n",
    "    STARTER = 'Starter'\n",
    "    \n",
    "    \n",
    "# Define Set Name ENUM\n",
    "class SetName(Enum):\n",
    "    SET_SAIYAN_SAGA = 'Saiyan Saga'\n",
    "    SET_NAMEK_SAGA = 'Namek Saga'\n",
    "    # Add More\n",
    "    \n",
    "    \n",
    "# Define Named Character ENUM\n",
    "class NamedCharacter(Enum):\n",
    "    GOKU = 'Goku'\n",
    "    VEGETA = 'Vegeta'\n",
    "    # Add More"
   ]
  },
  {
   "cell_type": "markdown",
   "id": "256cc8ce-5a60-47ed-af07-dd06d673b220",
   "metadata": {
    "tags": []
   },
   "source": [
    "## PLAYER CLASS"
   ]
  },
  {
   "cell_type": "code",
   "execution_count": 279,
   "id": "01b2abff-fa73-46dd-be4b-39168d7af1a9",
   "metadata": {
    "tags": []
   },
   "outputs": [],
   "source": [
    "class Player:\n",
    "    def __init__(self, \n",
    "                 life_deck = Deck(),\n",
    "                 starting_anger = 0,\n",
    "                 anger_to_level = 5, # Anger needed to level up\n",
    "                 main_personality = None, # Starting Main Personality\n",
    "                 mppv_win = True # Whether the player can win by Most Powerful Personality Victory (MPPV) or not\n",
    "                ):\n",
    "        self.initial_stages = 5\n",
    "        self.life_deck = life_deck\n",
    "        self.discard_pile = DiscardPile()\n",
    "        self.main_personality = None\n",
    "        self.anger = starting_anger\n",
    "        self.anger_to_level = anger_to_level\n",
    "        self.hand = Hand()\n",
    "\n",
    "    def draw_cards(self, num_cards):\n",
    "        drawn_cards = self.life_deck.draw_cards(num_cards)\n",
    "        self.hand.add_card(drawn_cards)\n",
    "        return drawn_cards\n",
    "    \n",
    "    def discard_cards(self, num_cards):\n",
    "        discarded_cards = self.hand.get_cards()[:num_cards]\n",
    "        self.hand.remove_cards(discarded_cards)\n",
    "        self.discard_pile.add_cards_to_deck(discarded_cards)\n",
    "\n",
    "    def play_card_from_hand(self, card):\n",
    "        if card in self.hand.get_cards():\n",
    "            self.hand.remove_card(card)\n",
    "            card.play(self)\n",
    "            \n",
    "    def peek_cards(self, num_cards):\n",
    "        return self.life_deck.peek_cards(num_cards)\n",
    "\n",
    "    def shuffle_deck(self):\n",
    "        self.life_deck.shuffle_deck()\n",
    "\n",
    "    def look_through_deck(self, card_name):\n",
    "        return self.life_deck.look_through_deck(card_name)\n",
    "\n",
    "    def add_card_to_deck(self, card):\n",
    "        self.life_deck.add_card_to_deck(card)\n",
    "\n",
    "    def add_cards_to_deck(self, cards):\n",
    "        self.life_deck.add_cards_to_deck(cards)\n",
    "\n",
    "    def get_deck_size(self):\n",
    "        return self.life_deck.get_deck_size()\n",
    "\n",
    "    def get_discard_pile_size(self):\n",
    "        return self.discard_pile.get_deck_size()\n",
    "\n",
    "        \n",
    "    def take_damage(self, damage):\n",
    "        # Reduce life cards from the life deck based on the damage taken\n",
    "        while damage > 0 and self.life_deck:\n",
    "            self.life_deck.pop(0)\n",
    "            damage -= 1\n",
    "\n",
    "    def play_main_personality(self, card):\n",
    "        # Check if the player already has a main personality card in play\n",
    "        if self.main_personality is not None:\n",
    "            print(\"A main personality card is already in play.\")\n",
    "            return False\n",
    "        # Set the main personality card in play\n",
    "        self.main_personality = card\n",
    "        return True\n",
    "    \n",
    "    def play_card(self, card):\n",
    "        if card.is_valid_to_play(self):\n",
    "            card.play(self)\n",
    "            print(f\"{card.name} played successfully!\")\n",
    "        else:\n",
    "            print(f\"Not enough power stages to play {card.name}. Taking damage in life cards.\")\n",
    "            self.take_damage(card.life_card_damage)\n",
    "            \n",
    "            \n",
    "    ## ANGER MECHANIC\n",
    "    def get_anger(self):\n",
    "        return self.anger\n",
    "    \n",
    "    def raise_anger(self, amt):\n",
    "        self.anger = min(self.anger + amt, self.anger_to_level)\n",
    "    \n",
    "    def lower_anger(self, amt):\n",
    "        self.anger = max(0, self.anger - amt)\n",
    "        \n",
    "    def set_anger(self, amt = 0):\n",
    "        self.anger = max(0, min(amt, self.anger_to_level)) # has to be between 0 and max\n",
    "        \n",
    "    def set_max_anger(self):\n",
    "        self.anger = self.anger_to_level\n",
    "        \n",
    "    def set_min_anger(self):\n",
    "        self.anger = 0\n",
    "    \n",
    "    def is_max_anger(self):\n",
    "        return self.anger == self.anger_to_level # Returns a boolean if the player is at max anger (useful for leveling up)\n",
    "\n",
    "    def is_min_anger(self):\n",
    "        return self.anger == 0 # Returns a boolean if the player is at max anger (useful for leveling up)\n"
   ]
  },
  {
   "cell_type": "markdown",
   "id": "3cd3cd2e-7ece-4d03-aec9-a1624073d97c",
   "metadata": {
    "jp-MarkdownHeadingCollapsed": true,
    "tags": []
   },
   "source": [
    "## CARD CLASS"
   ]
  },
  {
   "cell_type": "code",
   "execution_count": 121,
   "id": "18c1d490-0b4b-47cd-badf-63c6e4c18774",
   "metadata": {
    "tags": []
   },
   "outputs": [],
   "source": [
    "class Card:\n",
    "    def __init__(self, \n",
    "                 name = '', # Card Name\n",
    "                 text = '', # Card Text\n",
    "                 card_type = None, # Card Type: Combat, Non-Combat, Dragon Ball, Personality, Mastery.\n",
    "                 card_subtype = None, # Card Subtype: Energy Combat, Physical Combat, Setup, Drill, etc.\n",
    "                 card_style = None,  # Saiyan Style, Namekian Style, etc.\n",
    "                 named_character = '', # Named Character: Goku, Vegeta, etc.\n",
    "                 effect_type = None, # Attack, Defense, Power, Constant Power\n",
    "                 attack_type = None, # Physical Attack or Energy Attack\n",
    "                 cost_power_stage = 0, # Power stages that must be paid to play card\n",
    "                 cost_life_card = 0, # Life cards that must be discarded to play card\n",
    "                 requirements = None, # Any other requirements that must be met to play card\n",
    "                 in_play = False, \n",
    "                 damage_power_stage = 0, # Damage done in power stages\n",
    "                 damage_life_card = 0, # Damage done in life cards\n",
    "                 constant_effect = None, # Constant Combat Power\n",
    "                 activated_ability = None, # Activated Ability, usually triggered once and discarded\n",
    "                 card_number = None, # Card Number for collection purposes\n",
    "                 card_rarity = None, # Card Rarity for collection purposes\n",
    "                 set_name = None):  # Set Name for collection purposes\n",
    "        self.name = name\n",
    "        self.card_type = card_type\n",
    "        self.card_subtype = card_subtype\n",
    "        self.card_style = card_style\n",
    "        self.named_character = named_character\n",
    "        self.effect_type = effect_type\n",
    "        self.attack_type = attack_type\n",
    "        self.cost_power_stage = cost_power_stage \n",
    "        self.cost_life_card = cost_life_card\n",
    "        self.requirements = requirements if requirements else {}\n",
    "        self.in_play = in_play\n",
    "        self.damage_power_stage = damage_power_stage\n",
    "        self.damage_life_card = damage_life_card\n",
    "        self.constant_effect = constant_effect\n",
    "        self.activated_ability = activated_ability\n",
    "        self.card_number = card_number\n",
    "        self.card_rarity = card_rarity\n",
    "        self.set_name = set_name\n",
    "        \n",
    "    def __str__(self):\n",
    "        return self.name\n",
    "\n",
    "    def is_valid_to_play(self, player):\n",
    "        if self.card_type == CardType.COMBAT:\n",
    "            return player.main_personality.current_power_stage_index >= self.cost_power_stage or player.life_deck.get_deck_size() >= self.cost_life_card\n",
    "        else:\n",
    "            return True\n",
    "\n",
    "    def play(self, player):\n",
    "        if self.card_type == CardType.COMBAT:\n",
    "            if player.main_personality.current_power_stage_index >= self.cost_power_stage:\n",
    "                player.main_personality.reduce_power_stages(self.cost_power_stage)\n",
    "                self.in_play = True\n",
    "            else:\n",
    "                print(\"Insufficient power stages to play the card.\")\n",
    "        else:\n",
    "            self.in_play = True\n",
    "            # Handle non-combat card effects (setup, drills, dragon balls, allies, etc.)\n",
    "            if self.constant_effect:\n",
    "                # Apply constant effects of the card\n",
    "                self.constant_effect.apply(player)\n",
    "            # Add your code here to handle activated abilities of Non-Combat cards.\n",
    "            \n",
    "            \n",
    "            \n",
    "class ConstantEffect:\n",
    "    def __init__(self, effect_text):\n",
    "        self.effect_text = effect_text\n",
    "\n",
    "    def apply(self, player):\n",
    "        # Add your code here to apply the constant effect of the card to the player.\n",
    "        pass\n",
    "\n",
    "\n",
    "class ActivatedAbility:\n",
    "    def __init__(self, ability_text, effect):\n",
    "        self.ability_text = ability_text\n",
    "        self.effect = effect\n",
    "\n",
    "    def use(self, player):\n",
    "        # Add your code here to handle the activated ability of the card.\n",
    "        pass\n",
    "\n",
    "\n",
    "# Other card attributes can be set separately based on the card type and its specific characteristics.\n",
    "# For example:\n",
    "# personality_card = Personality(\"Goku\", power_stages=11)\n",
    "# mastery_card = Card(\"Mastery\", \"Kamehameha Mastery\")\n",
    "# constant_effect_card = Card(\"Drill\", \"Training Drill\", constant_effect=ConstantEffect(\"All attacks deal +1 damage.\"))\n",
    "# activated_ability_card = Card(\"Non-Combat\", \"Super Combo\", activated_ability=ActivatedAbility(\"Activate: Gain 3 power stages.\", effect=lambda player: player.gain_power_stages(3)))\n",
    "\n",
    "# You can add more attributes and methods to the `Card` class and related classes as needed, based on your game's mechanics.\n"
   ]
  },
  {
   "cell_type": "markdown",
   "id": "e4b05a32-9e98-4713-aeff-637e5283528d",
   "metadata": {
    "jp-MarkdownHeadingCollapsed": true,
    "tags": []
   },
   "source": [
    "### PERSONALITY CARD CLASS"
   ]
  },
  {
   "cell_type": "code",
   "execution_count": 122,
   "id": "380cea4f-9bfa-4b6a-8729-86a63a0b72b9",
   "metadata": {
    "tags": []
   },
   "outputs": [],
   "source": [
    "class PersonalityCard(Card):\n",
    "    def __init__(self, name, named_character, card_subtype, personality_level, power_up_rating, power_stages, card_type = CardType.PERSONALITY, starting_power_stage = 5):\n",
    "        super().__init__(name = name, \n",
    "                         named_character = named_character, \n",
    "                         card_type = card_type,\n",
    "                         card_subtype = card_subtype) \n",
    "        self.power_stage_indices = range(0, len(power_stages))\n",
    "        self.power_stage_values = power_stages\n",
    "        self.current_power_stage_index = starting_power_stage\n",
    "        self.current_power_stage_value = self.power_stage_values[self.current_power_stage_index]\n",
    "        self.personality_level = personality_level\n",
    "        self.power_up_rating = power_up_rating\n",
    "       \n",
    "    # ... (other methods)\n",
    "    \n",
    "    def __repr__(self):\n",
    "        return \n",
    "\n",
    "    def set_current_power_stage_index(self, current_stage_index):\n",
    "        if current_stage_index < len(self.power_stage_indices):\n",
    "            self.current_power_stage_index = current_stage_index\n",
    "        else:\n",
    "            raise ValueError(\"Invalid power stage index for this personality.\")\n",
    "\n",
    "    def get_current_power_stage_value(self):\n",
    "        return self.power_stage_values[self.current_power_stage_index]\n",
    "\n",
    "    def add_power_stages(self, stages):\n",
    "        self.current_power_stage_index = min(self.current_power_stage_index + stages, len(self.power_stage_indices) - 1)\n",
    "        self.current_power_stage_value = self.get_current_power_stage_value()\n",
    "\n",
    "    def reduce_power_stages(self, stages):\n",
    "        self.current_power_stage_index = max(self.current_power_stage_index - stages, 0)\n",
    "        self.current_power_stage_value = self.get_current_power_stage_value()\n",
    "        \n",
    "    def set_max_power_stage(self):\n",
    "        self.current_power_stage_index = len(self.power_stage_indices - 1)\n",
    "        \n",
    "    def set_min_power_stage(self):\n",
    "        self.current_power_stage_index = 0"
   ]
  },
  {
   "cell_type": "markdown",
   "id": "3f0f8d3b-c7e4-4d5a-8eb1-659dd76b0bd2",
   "metadata": {
    "tags": []
   },
   "source": [
    "## DECK CLASS"
   ]
  },
  {
   "cell_type": "code",
   "execution_count": 257,
   "id": "b3cedcb8-8760-41c6-a4e6-22e08a61a2f5",
   "metadata": {
    "tags": []
   },
   "outputs": [],
   "source": [
    "import random\n",
    "\n",
    "class Deck:\n",
    "    def __init__(self, \n",
    "                 cards = None):\n",
    "        if cards is None:\n",
    "            self.cards = []\n",
    "        else:\n",
    "            self.cards = cards\n",
    "        \n",
    "    def show_deck(self):\n",
    "        print(\"Cards in the deck:\")\n",
    "        for card in self.cards:\n",
    "            print(card.name)\n",
    "        \n",
    "    def draw_cards(self, num_cards):\n",
    "        drawn_cards = self.cards[:num_cards]\n",
    "        self.cards = self.cards[num_cards:]\n",
    "        return drawn_cards\n",
    "\n",
    "    def discard_cards(self, num_cards):\n",
    "        discarded_cards = self.cards[:num_cards]\n",
    "        self.cards = self.cards[num_cards:]\n",
    "        self.discard_pile.extend(discarded_cards)\n",
    "\n",
    "    def peek_cards(self, num_cards):\n",
    "        return self.cards[:num_cards]\n",
    "\n",
    "    def shuffle(self):\n",
    "        random.shuffle(self.cards)\n",
    "\n",
    "    def look_through_deck(self, card_name):\n",
    "        found_cards = [card for card in self.cards if card.name == card_name]\n",
    "        return found_cards\n",
    "\n",
    "#     def add_card_to_deck(self, card):\n",
    "#         self.cards.append(card)\n",
    "\n",
    "#     def add_cards_to_deck(self, cards):\n",
    "#         self.cards.extend(cards)\n",
    "\n",
    "    def get_deck_size(self):\n",
    "        return len(self.cards)\n",
    "    \n",
    "    def add(self, obj):\n",
    "        if type(obj) is str:  # convert string (card's name) to a Card object\n",
    "            obj = cards.card_from_name(obj)\n",
    "\n",
    "        if type(obj) is list:\n",
    "            for o in obj:\n",
    "                self.cards.extend(obj)\n",
    "            return obj\n",
    "        self.cards.append(obj)\n",
    "        return obj\n",
    "    \n",
    "    def remove(self, obj):\n",
    "        if type(obj) is list:\n",
    "            return all([self.remove(o) for o in obj])\n",
    "\n",
    "        try:\n",
    "            self.cards.remove(obj)\n",
    "            return True\n",
    "        except ValueError:\n",
    "            return False\n",
    "        \n",
    "    def clear(self):\n",
    "        self.cards = []"
   ]
  },
  {
   "cell_type": "markdown",
   "id": "d2cfd1b8-f04c-4d80-9bf6-7a4743a73274",
   "metadata": {
    "tags": []
   },
   "source": [
    "## HAND CLASS"
   ]
  },
  {
   "cell_type": "code",
   "execution_count": 280,
   "id": "d06316a6-baca-4617-8876-e68b23ea3ff9",
   "metadata": {},
   "outputs": [],
   "source": [
    "class Hand:\n",
    "    def __init__(self, \n",
    "                 cards = None):\n",
    "        if cards is None:\n",
    "            self.cards = []\n",
    "        else:\n",
    "            self.cards = cards\n",
    "\n",
    "    def show_hand(self):\n",
    "        print(\"Cards in hand:\")\n",
    "        for card in self.cards:\n",
    "            print(card.name)            \n",
    "            \n",
    "    def add_card(self, card):\n",
    "        self.cards.append(card)\n",
    "\n",
    "    def remove_card(self, card):\n",
    "        self.cards.remove(card)\n",
    "\n",
    "    def get_cards(self):\n",
    "        return self.cards\n",
    "\n",
    "    def is_empty(self):\n",
    "        return len(self.cards) == 0\n",
    "\n",
    "    def clear(self):\n",
    "        self.cards = []\n"
   ]
  },
  {
   "cell_type": "markdown",
   "id": "b8fc3c4d-4e2c-4f31-83c9-316d10de3f05",
   "metadata": {
    "jp-MarkdownHeadingCollapsed": true,
    "tags": []
   },
   "source": [
    "## DISCARD PILE CLASS"
   ]
  },
  {
   "cell_type": "code",
   "execution_count": 125,
   "id": "4865d351-f973-49e8-b3da-880b09159f85",
   "metadata": {
    "tags": []
   },
   "outputs": [],
   "source": [
    "class DiscardPile:\n",
    "    def __init__(self):\n",
    "        self.cards = []\n",
    "\n",
    "    def add_cards(self, cards):\n",
    "        self.cards.extend(cards)\n",
    "\n",
    "    def is_empty(self):\n",
    "        return len(self.cards) == 0\n",
    "\n",
    "    def clear(self):\n",
    "        self.cards = []"
   ]
  },
  {
   "cell_type": "markdown",
   "id": "ea4f4587-680b-4e3b-b034-d2df5f671b39",
   "metadata": {
    "tags": []
   },
   "source": [
    "# TESTING"
   ]
  },
  {
   "cell_type": "markdown",
   "id": "ae4e7d18-a048-492c-8a88-0be3e2a4226d",
   "metadata": {
    "jp-MarkdownHeadingCollapsed": true,
    "tags": []
   },
   "source": [
    "### SAMPLE CARDS"
   ]
  },
  {
   "cell_type": "code",
   "execution_count": 126,
   "id": "c7f95073-60fc-4e25-806a-dba8239cd2f9",
   "metadata": {
    "tags": []
   },
   "outputs": [
    {
     "data": {
      "text/plain": [
       "('Goku, the Hero', 1, 1, 5, 500, 'Personality', 'Hero')"
      ]
     },
     "execution_count": 126,
     "metadata": {},
     "output_type": "execute_result"
    }
   ],
   "source": [
    "# Create a sample personality card\n",
    "SS_10_Goku = PersonalityCard(name = \"Goku, the Hero\", named_character = NamedCharacter.GOKU, card_subtype = PersonalityCardType.HERO, personality_level = 1, power_up_rating = 1, power_stages = [0, 100, 200, 300, 400, 500, 600, 700, 800, 900, 1000])\n",
    "SS_10_Goku.name, SS_10_Goku.personality_level, SS_10_Goku.power_up_rating, SS_10_Goku.current_power_stage_index, SS_10_Goku.current_power_stage_value, SS_10_Goku.card_type.value, SS_10_Goku.card_subtype.value"
   ]
  },
  {
   "cell_type": "code",
   "execution_count": 127,
   "id": "0c55bc78-c70e-4a39-a5bd-fadfd55921c5",
   "metadata": {
    "tags": []
   },
   "outputs": [
    {
     "data": {
      "text/plain": [
       "('Saiyan Energy Beam',\n",
       " 'Combat Card',\n",
       " 'Energy Combat',\n",
       " 'Saiyan Style',\n",
       " 'Attack Type Card',\n",
       " 'Energy Attack',\n",
       " 2,\n",
       " 0,\n",
       " 4,\n",
       " 0)"
      ]
     },
     "execution_count": 127,
     "metadata": {},
     "output_type": "execute_result"
    }
   ],
   "source": [
    "# Create an energy combat card:\n",
    "SS_01 = Card(name = 'Saiyan Energy Beam', card_type = CardType.COMBAT, card_subtype = CombatCardType.ENERGY_COMBAT, effect_type = EffectType.ATTACK, attack_type = AttackType.ENERGY_ATTACK, card_style = CardStyle.SAIYAN_STYLE, cost_power_stage = 2, damage_life_card = 4)\n",
    "SS_02 = Card(name = 'Saiyan Energy Block', card_type = CardType.COMBAT, card_subtype = CombatCardType.ENERGY_COMBAT, effect_type = EffectType.DEFENSE, attack_type = AttackType.ENERGY_ATTACK, card_style = CardStyle.SAIYAN_STYLE)\n",
    "SS_03 = Card(name = 'Saiyan Physical Attack', card_type = CardType.COMBAT, card_subtype = CombatCardType.PHYSICAL_COMBAT, effect_type = EffectType.ATTACK, attack_type = AttackType.PHYSICAL_ATTACK, card_style = CardStyle.SAIYAN_STYLE, cost_power_stage = 2, damage_power_stage= 4)\n",
    "SS_04 = Card(name = 'Saiyan Physical Block', card_type = CardType.COMBAT, card_subtype = CombatCardType.PHYSICAL_COMBAT, effect_type = EffectType.DEFENSE, attack_type = AttackType.PHYSICAL_ATTACK, card_style = CardStyle.SAIYAN_STYLE)\n",
    "\n",
    "SS_01.name, SS_01.card_type.value, SS_01.card_subtype.value, SS_01.card_style.value, SS_01.effect_type.value, SS_01.attack_type.value, SS_01.cost_power_stage, SS_01.cost_life_card, SS_01.damage_life_card, SS_01.damage_power_stage"
   ]
  },
  {
   "cell_type": "code",
   "execution_count": 128,
   "id": "0b2fa0a2-a63f-4dce-9d93-ac388eda4773",
   "metadata": {
    "tags": []
   },
   "outputs": [],
   "source": [
    "player1 = Player(main_personality = SS_10_Goku)"
   ]
  },
  {
   "cell_type": "markdown",
   "id": "b6b18d97-4089-4d3b-a14b-c26e6202785a",
   "metadata": {
    "jp-MarkdownHeadingCollapsed": true,
    "tags": []
   },
   "source": [
    "### TESTING ANGER"
   ]
  },
  {
   "cell_type": "code",
   "execution_count": 139,
   "id": "34cd4674-3a80-45c9-b457-4bbc20ae507e",
   "metadata": {
    "tags": []
   },
   "outputs": [
    {
     "name": "stdout",
     "output_type": "stream",
     "text": [
      "Starting Anger: 0\n",
      "New Anger: 1\n",
      "New Anger: 3\n",
      "New Anger: 0\n",
      "New Anger: 5\n",
      "New Anger: 0\n",
      "New Anger: 5\n",
      "Max Anger: True\n",
      "New Anger: 0\n",
      "Max Anger: False\n",
      "Min Anger: True\n"
     ]
    }
   ],
   "source": [
    "player1.set_anger(0)\n",
    "print(f'Starting Anger: {player1.get_anger()}')\n",
    "player1.raise_anger(1)\n",
    "print(f'New Anger: {player1.get_anger()}')\n",
    "player1.raise_anger(2)\n",
    "print(f'New Anger: {player1.get_anger()}')\n",
    "player1.lower_anger(4)\n",
    "print(f'New Anger: {player1.get_anger()}')\n",
    "player1.set_max_anger()\n",
    "print(f'New Anger: {player1.get_anger()}')\n",
    "player1.set_min_anger()\n",
    "print(f'New Anger: {player1.get_anger()}')\n",
    "player1.set_anger(10)\n",
    "print(f'New Anger: {player1.get_anger()}')\n",
    "print(f'Max Anger: {player1.is_max_anger()}')\n",
    "player1.set_anger(-5)\n",
    "print(f'New Anger: {player1.get_anger()}')\n",
    "print(f'Max Anger: {player1.is_max_anger()}')\n",
    "print(f'Min Anger: {player1.is_min_anger()}')\n",
    "\n",
    "## All functions seem to work"
   ]
  },
  {
   "cell_type": "markdown",
   "id": "1213d4e7-971d-468e-9c82-dc80e862a571",
   "metadata": {
    "jp-MarkdownHeadingCollapsed": true,
    "tags": []
   },
   "source": [
    "### TESTING POWER STAGES"
   ]
  },
  {
   "cell_type": "code",
   "execution_count": 140,
   "id": "346297f5-3b0a-499d-bd1c-7efccd051f79",
   "metadata": {
    "tags": []
   },
   "outputs": [
    {
     "name": "stdout",
     "output_type": "stream",
     "text": [
      "After playing the card - Current Power Stages: 500\n",
      "After adding stages - Current Power Stages: 700\n",
      "After reducing stages - Current Power Stages: 400\n"
     ]
    }
   ],
   "source": [
    "# Assuming you have a Player class with the main personality card in play\n",
    "# Let's say player1 is the player\n",
    "player1 = Player()\n",
    "\n",
    "# Print Goku's current power stages before playing the card (it will be 0 as there's no main personality yet)\n",
    "#print(\"Before playing the card - Current Power Stages:\", player1.main_personality.get_current_power_stage_value())  # Output: 0\n",
    "\n",
    "# Play the main personality card (Goku_ss_01)\n",
    "player1.play_main_personality(SS_10_Goku)\n",
    "\n",
    "# Print Goku's current power stages after playing the card\n",
    "print(\"After playing the card - Current Power Stages:\", player1.main_personality.get_current_power_stage_value())  # Output: e.g., 500 (assuming 500 is Goku_ss_01's power stage value)\n",
    "\n",
    "# Add power stages (e.g., 2 stages)\n",
    "player1.main_personality.add_power_stages(2)\n",
    "\n",
    "# Print Goku's current power stages after adding stages\n",
    "print(\"After adding stages - Current Power Stages:\", player1.main_personality.get_current_power_stage_value())  # Output: e.g., 700 (assuming 700 is Goku_ss_01's power stage value after adding 2 stages)\n",
    "\n",
    "# Reduce power stages (e.g., 3 stages)\n",
    "player1.main_personality.reduce_power_stages(3)\n",
    "\n",
    "# Print Goku's current power stages after reducing stages\n",
    "print(\"After reducing stages - Current Power Stages:\", player1.main_personality.get_current_power_stage_value())  # Output: e.g., 400 (assuming 400 is Goku_ss_01's power stage value after reducing 3 stages)\n"
   ]
  },
  {
   "cell_type": "code",
   "execution_count": 141,
   "id": "dc5c5528-89da-42bf-9716-f2b1153df4db",
   "metadata": {
    "tags": []
   },
   "outputs": [
    {
     "data": {
      "text/plain": [
       "900"
      ]
     },
     "execution_count": 141,
     "metadata": {},
     "output_type": "execute_result"
    }
   ],
   "source": [
    "player1.main_personality.set_current_power_stage_index(9)\n",
    "player1.main_personality.get_current_power_stage_value()"
   ]
  },
  {
   "cell_type": "code",
   "execution_count": 109,
   "id": "3cf3c57b-446d-474d-a4cb-73d4f3905fe9",
   "metadata": {
    "tags": []
   },
   "outputs": [
    {
     "name": "stdout",
     "output_type": "stream",
     "text": [
      "Saiyan Energy Beam played successfully!\n",
      "After playing SS_01 - Current Power Stages: 700\n",
      "Goku's Life Deck: <__main__.Deck object at 0x000001A5F9BBAF10>\n"
     ]
    }
   ],
   "source": [
    "# Try to play the card (SS_01)\n",
    "player1.play_card(SS_01)\n",
    "\n",
    "# Print Goku's current power stages after playing SS_01 (if successful)\n",
    "if player1.main_personality:\n",
    "    print(\"After playing SS_01 - Current Power Stages:\", player1.main_personality.get_current_power_stage_value())\n",
    "\n",
    "# Print Goku's life deck after playing SS_01 (if unsuccessful)\n",
    "print(\"Goku's Life Deck:\", player1.life_deck)\n"
   ]
  },
  {
   "cell_type": "markdown",
   "id": "f655adb5-d9d2-4a94-b122-53f07d03b60a",
   "metadata": {
    "tags": []
   },
   "source": [
    "### TESTING DECK"
   ]
  },
  {
   "cell_type": "code",
   "execution_count": 281,
   "id": "625cd978-7a51-44fc-a6de-d6300ff68bfd",
   "metadata": {
    "tags": []
   },
   "outputs": [
    {
     "name": "stdout",
     "output_type": "stream",
     "text": [
      "Cards in the deck:\n",
      "Saiyan Energy Beam\n",
      "Saiyan Energy Beam\n",
      "Saiyan Energy Block\n",
      "Saiyan Physical Attack\n",
      "Saiyan Physical Block\n",
      "Cards in the deck:\n",
      "Saiyan Energy Block\n",
      "Saiyan Physical Attack\n",
      "Saiyan Energy Beam\n",
      "Saiyan Energy Beam\n",
      "Saiyan Physical Block\n",
      "Cards in the deck:\n",
      "Saiyan Energy Block\n",
      "Saiyan Physical Attack\n",
      "Saiyan Energy Beam\n",
      "Saiyan Physical Block\n",
      "Cards in the deck:\n"
     ]
    }
   ],
   "source": [
    "test_deck = Deck()\n",
    "test_deck.add(SS_01)\n",
    "test_deck.add(SS_01)\n",
    "test_deck.add(SS_02)\n",
    "test_deck.add(SS_03)\n",
    "test_deck.add(SS_04)\n",
    "test_deck.show_deck()\n",
    "test_deck.shuffle()\n",
    "test_deck.show_deck()\n",
    "test_deck.remove(SS_01)\n",
    "test_deck.show_deck()\n",
    "test_deck.get_deck_size()\n",
    "test_deck.clear()\n",
    "test_deck.show_deck()"
   ]
  },
  {
   "cell_type": "code",
   "execution_count": 282,
   "id": "65c9cf21-feb3-4e44-89fa-e9449a12e09a",
   "metadata": {
    "tags": []
   },
   "outputs": [],
   "source": [
    "test_deck = Deck()\n",
    "test_deck.add(SS_01)\n",
    "test_deck.add(SS_02)\n",
    "test_deck.add(SS_03)\n",
    "test_deck.add(SS_04)\n",
    "player1 = Player(life_deck = test_deck)"
   ]
  },
  {
   "cell_type": "code",
   "execution_count": 276,
   "id": "b137850c-b645-4af4-9b27-b2e149332ec7",
   "metadata": {
    "tags": []
   },
   "outputs": [
    {
     "name": "stdout",
     "output_type": "stream",
     "text": [
      "Cards in the deck:\n",
      "Saiyan Energy Beam\n",
      "Saiyan Energy Block\n",
      "Saiyan Physical Attack\n",
      "Saiyan Physical Block\n"
     ]
    }
   ],
   "source": [
    "player1.life_deck.show_deck()"
   ]
  },
  {
   "cell_type": "code",
   "execution_count": 283,
   "id": "69f4f8b6-ba7c-49c6-a83c-2a0620c6ed4b",
   "metadata": {
    "tags": []
   },
   "outputs": [
    {
     "name": "stdout",
     "output_type": "stream",
     "text": [
      "Cards in hand:\n"
     ]
    },
    {
     "ename": "AttributeError",
     "evalue": "'list' object has no attribute 'name'",
     "output_type": "error",
     "traceback": [
      "\u001b[1;31m---------------------------------------------------------------------------\u001b[0m",
      "\u001b[1;31mAttributeError\u001b[0m                            Traceback (most recent call last)",
      "Cell \u001b[1;32mIn[283], line 2\u001b[0m\n\u001b[0;32m      1\u001b[0m player1\u001b[38;5;241m.\u001b[39mdraw_cards(\u001b[38;5;241m1\u001b[39m)\n\u001b[1;32m----> 2\u001b[0m player1\u001b[38;5;241m.\u001b[39mhand\u001b[38;5;241m.\u001b[39mshow_hand()\n",
      "Cell \u001b[1;32mIn[280], line 12\u001b[0m, in \u001b[0;36mHand.show_hand\u001b[1;34m(self)\u001b[0m\n\u001b[0;32m     10\u001b[0m \u001b[38;5;28mprint\u001b[39m(\u001b[38;5;124m\"\u001b[39m\u001b[38;5;124mCards in hand:\u001b[39m\u001b[38;5;124m\"\u001b[39m)\n\u001b[0;32m     11\u001b[0m \u001b[38;5;28;01mfor\u001b[39;00m card \u001b[38;5;129;01min\u001b[39;00m \u001b[38;5;28mself\u001b[39m\u001b[38;5;241m.\u001b[39mcards:\n\u001b[1;32m---> 12\u001b[0m     \u001b[38;5;28mprint\u001b[39m(card\u001b[38;5;241m.\u001b[39mname)\n",
      "\u001b[1;31mAttributeError\u001b[0m: 'list' object has no attribute 'name'"
     ]
    }
   ],
   "source": [
    "player1.draw_cards(1)\n",
    "player1.hand.show_hand()"
   ]
  },
  {
   "cell_type": "code",
   "execution_count": 242,
   "id": "7a76cd0e-f3da-4751-9191-02e5a83639ab",
   "metadata": {
    "tags": []
   },
   "outputs": [
    {
     "data": {
      "text/plain": [
       "3"
      ]
     },
     "execution_count": 242,
     "metadata": {},
     "output_type": "execute_result"
    }
   ],
   "source": [
    "test_deck.get_deck_size()"
   ]
  },
  {
   "cell_type": "markdown",
   "id": "e7322bf7-da81-4617-94ac-be425e3bc4ef",
   "metadata": {
    "jp-MarkdownHeadingCollapsed": true,
    "tags": []
   },
   "source": [
    "## GAME STEPS\n",
    "gamesteps.py"
   ]
  },
  {
   "cell_type": "code",
   "execution_count": 77,
   "id": "80cfe27b-260e-4258-be47-927f94af7e62",
   "metadata": {
    "tags": []
   },
   "outputs": [],
   "source": [
    "from enum import Enum\n",
    "\n",
    "class Phase(Enum):\n",
    "    BEGINNING = 'Beginning Phase'\n",
    "    PLANNING = 'Planning Phase'\n",
    "    COMBAT = 'Combat Phase'\n",
    "    END = 'End Phase'\n",
    "    \n",
    "    @property\n",
    "    def steps(self):\n",
    "        return{\n",
    "            Phase.BEGINNING: (Step.TURN_BEGINS,\n",
    "                              Step.RESET_COUNTERS,\n",
    "                              Step.DRAW),\n",
    "            Phase.PLANNING: (Step.PLAY_NONCOMBAT,\n",
    "                             Step.POWER_UP,\n",
    "                             Step.DECLARE_COMBAT),\n",
    "            Phase.COMBAT: (Step.BEGINNING_OF_COMBAT,\n",
    "                           Step.DEFENDER_DRAWS,\n",
    "                           Step.ACTIVE_ATTACKS,\n",
    "                           Step.DEFENDER_BLOCKS,\n",
    "                           Step.DEFENDER_ATTACKS,\n",
    "                           Step.ACTIVE_BLOCKS,\n",
    "                           Step.END_OF_COMBAT),\n",
    "            Phase.END: (Step.DISCARD,\n",
    "                        Step.REJUVENATE,\n",
    "                        Step.TURN_ENDS)\n",
    "        }[self]\n",
    "    \n",
    "class Step(Enum):\n",
    "    TURN_BEGINS = 'Beginning of Active Player Turn' # To trigger 'Beginning of Turn'\n",
    "    RESET_COUNTERS = 'Reset Ability Counters' \n",
    "    DRAW = 'Draw Step for Active Player' # Draw 3 cards\n",
    "    PLAY_NONCOMBAT = 'Non-Combat Card Step' # Play any Non-Combat Cards\n",
    "    POWER_UP = 'Power Up Step' # Power up for Main Personality and Allies\n",
    "    DECLARE_COMBAT = 'Declare Combat Step' # Declare or Pass Combat\n",
    "    BEGINNING_OF_COMBAT = 'Beginning of Combat' # To trigger 'When Entering Combat'\n",
    "    DEFENDER_DRAWS = 'Draw Step for Defending Player' # Defender draws 3 cards\n",
    "    ACTIVE_ATTACKS = 'Active Player Attack Phase' # Active Player takes an attack action\n",
    "    DEFENDER_BLOCKS = 'Defending Player Block Phase' # Defending Player takes block action\n",
    "    DEFENDER_ATTACKS = 'Defending Player Attack Phase' # Defending Player takes attack action\n",
    "    ACTIVE_BLOCKS = 'Active Player Block Phase' # Defending Player takes block action\n",
    "    END_OF_COMBAT = 'End of Combat' # To trigger 'End of Combat'\n",
    "    DISCARD = 'Both players discard down to '\n",
    "    REJUVENATE = 'Rejuvenate' # Active Player rejuvenates if combat was not declared\n",
    "    TURN_ENDS = 'End of Active Player Turn' # To trigger 'End of Turn'\n",
    "    \n",
    "    @property\n",
    "    def phase(self):\n",
    "        return{\n",
    "            Step.TURN_BEGINS: Phase.BEGINNING,\n",
    "            Step.RESET_COUNTERS: Phase.BEGINNING,\n",
    "            Step.DRAW: Phase.BEGINNING,\n",
    "            Step.PLAY_NONCOMBAT: Phase.PLANNING,\n",
    "            Step.POWER_UP: Phase.PLANNING,\n",
    "            Step.DECLARE_COMBAT: Phase.PLANNING,\n",
    "            Step.BEGINNING_OF_COMBAT: Phase.COMBAT,\n",
    "            Step.DEFENDER_DRAWS: Phase.COMBAT,\n",
    "            Step.ACTIVE_ATTACKS: Phase.COMBAT,\n",
    "            Step.DEFENDER_BLOCKS: Phase.COMBAT,\n",
    "            Step.DEFENDER_ATTACKS: Phase.COMBAT,\n",
    "            Step.ACTIVE_BLOCKS: Phase.COMBAT,\n",
    "            Step.END_OF_COMBAT: Phase.COMBAT,\n",
    "            Step.DISCARD: Phase.END,\n",
    "            Step.REJUVENATE: Phase.END,\n",
    "            Step.TURN_ENDS: Phase.END \n",
    "        }[self]"
   ]
  },
  {
   "cell_type": "markdown",
   "id": "b030f5cb-c59d-4c84-a225-9be3d5dd05c4",
   "metadata": {
    "jp-MarkdownHeadingCollapsed": true,
    "tags": []
   },
   "source": [
    "## ZONE CLASS\n",
    "zone.py"
   ]
  },
  {
   "cell_type": "code",
   "execution_count": 110,
   "id": "93c0841f-e5b6-4235-af26-1b3862ca7c32",
   "metadata": {
    "tags": []
   },
   "outputs": [],
   "source": [
    "class ZoneType(Enum):\n",
    "    LIFE_DECK = 'Life Deck' # Main Deck where cards are drawn from\n",
    "    DISCARD_PILE = 'Discard Pile' # Stores discarded cards through effect or damage\n",
    "    BANISH_PILE = 'Banish Pile' # Stores removed from game cards through effects or damage\n",
    "    HAND = 'Hand' # Cards stored in hand\n",
    "    IN_PLAY = 'In Play' # Cards that are in play\n",
    "    \n",
    "class Zone():\n",
    "    is_lifedeck = False\n",
    "    is_inplay = False\n",
    "    is_public = False\n",
    "    \n",
    "    def __init__(self, controller = None, elements: list = None):\n",
    "        if elements is None:\n",
    "            self.elements = []\n",
    "        else:\n",
    "            self.elements = elements\n",
    "            for ele in elements:\n",
    "                ele.controller = controller\n",
    "            self.controller = controller\n",
    "            if controller is not None:\n",
    "                self.game = self.controller.game\n",
    "                \n",
    "    def __repr__(self):\n",
    "        return 'zone.Zone %r controlled by %r len=%s\\n%r' % (self.__class__.__name__,\n",
    "                                                             self.controller, len(self), self.elements)\n",
    "\n",
    "    def __str__(self):\n",
    "        return '%s\\'s %s (%s cards)\\n%s' % (self.controller, \n",
    "                                            self.__class__.__name__,\n",
    "                                            len(self), \n",
    "                                            [ele.name for ele in self.elements])\n",
    "\n",
    "    def __len__(self):\n",
    "        return len(self.elements)\n",
    "\n",
    "    def __bool__(self):\n",
    "        return bool(self.elements)\n",
    "\n",
    "    def __getitem__(self, pos):\n",
    "        return self.elements[pos]\n",
    "\n",
    "    @property\n",
    "    def isEmpty(self):\n",
    "        return len(self) == 0\n",
    "    \n",
    "    def add(self, obj):\n",
    "        if type(obj) is list:\n",
    "            o.zone = self\n",
    "            o.controller = self.controller\n",
    "        self.elements.extend(obj)\n",
    "        return obj\n",
    "    \n",
    "        obj.zone = self\n",
    "        self.elements.append(obj)\n",
    "        return obj\n",
    "\n",
    "    def remove(self, obj):\n",
    "        if type(obj) is list:\n",
    "            return all([self.remove(o) for o in obj])\n",
    "        \n",
    "        try:\n",
    "            self.elements.remove(obj)\n",
    "            obj.zone = None\n",
    "            return True\n",
    "        except ValueError:\n",
    "            return False\n",
    "        \n",
    "    def filter(self, characteristics = None, filter_func = None):\n",
    "        found = set()\n",
    "        if filter_func:\n",
    "            for ele in self:\n",
    "                if filter_func(ele):\n",
    "                    found.add(ele)\n",
    "        else:\n",
    "            for ele in self:\n",
    "                if ele.characteristics.satisfy(characteristics):\n",
    "                    found.add(ele)\n",
    "                    \n",
    "        return found\n",
    "    \n",
    "    def count(self, characteristics = None, filter_func = None):\n",
    "        return len(self.filter(characteristics, filter_func))\n",
    "    \n",
    "    def get_card_by_name(self, name):\n",
    "        cards = self.filter(Card(name = name))\n",
    "        if cards:\n",
    "            return list(cards)[0]\n",
    "        else:\n",
    "            return None\n",
    "        \n",
    "    def pop(self, pos = -1):\n",
    "        return self.elements.pop(pos)\n",
    "    \n",
    "    def clear(self):\n",
    "        self.elements = []\n",
    "\n",
    "class InPlay(Zone):\n",
    "    zone_type = 'IN_PLAY'\n",
    "    is_inplay = True\n",
    "    is_public = True\n",
    "    \n",
    "    def add(self, obj, status_mode = )\n"
   ]
  },
  {
   "cell_type": "markdown",
   "id": "409a9b63-6e3e-4cf2-b976-ac057e1e43f1",
   "metadata": {
    "jp-MarkdownHeadingCollapsed": true,
    "tags": []
   },
   "source": [
    "### Card Traits:\n",
    "* can_be_discarded\n",
    "* can_be_removed\n",
    "* can_win_mppv\n",
    "* can_raise_anger?\n",
    "* can_lower_anger?\n",
    "* can_use_endurance?\n",
    "\n",
    "### Triggers:\n",
    "* HIT: If attack successful\n",
    "* Draw: when drawing\n",
    "* Taking damage\n",
    "* Played\n",
    "* Discarded/banished from play/hand\n",
    "* ENDURANCE (reduces life cards of damage)\n",
    "* Critical Damage\n",
    "* Personality Level Advanced / Lowered\n",
    "* Anger raised or lowered\n",
    "* Stopped an attack\n",
    "* Rejuvenate\n",
    "* Entering combat as attacker / defender\n",
    "* Did not declare combat\n",
    "\n",
    " \n",
    "### Card/Deck/Zones\n",
    "* Draw (target draws from top/bottom of deck, discard pile, banish pile)\n",
    "* Shuffle\n",
    "* Search for specific card(s) in zones\n",
    "* Rejuvenate (goes to bottom of life deck)\n",
    "* Place on top of life deck\n",
    "* Discard (goes to Discard Pile)\n",
    "* Banish (goes to Banish Pile)\n",
    "* Remain (stays in play to be used more times)\n",
    "* Shuffle into life deck after use (can be combo of rejuv + shuffle to avoid more functions)\n",
    "* Move to In Play from hand\n",
    "* Move from In Play to hand\n",
    "* Capture / Steal (move from opponent's in play to yours)\n",
    "\n",
    "### Effects Functions\n",
    "* ~Raise / Lower Anger~\n",
    "* Raise / Lower Personality level\n",
    "* Raise / Lower Power Stages (either to min 0 or surplus lifecards)\n",
    "* Prevent Damage (this turn, next turn or flaoting)\n",
    "* Limit per deck\n",
    "* Copy Attack\n",
    "* Modify crit damage requirement\n",
    "* Prevent use of card  types (cannot perform energy attacks, use events, etc)\n",
    "* Modify card cost\n",
    "* Modify damage until eoc (end of combat)\n",
    "* End combat\n",
    "\n",
    "### Conditions\n",
    "* Dragon Balls in Play\n",
    "* Ally in Play\n",
    "* Non-Combat (setup or drill) Card in play\n",
    "* Personality level\n",
    "* Anger level\n",
    "\n",
    "\n",
    "### Damage calc:\n",
    "* Attack Table\n",
    "* conditional damage (discard/banish/additional cost such as lower anger/personality)\n",
    "* floating damage (from drills/cards/etc)\n",
    "\n",
    "### Costs\n",
    "* power stages\n",
    "* life cards\n",
    "* discard/banish card (from hand or in play) (specific or otherwise)\n",
    "* lower/raise anger\n",
    "\n",
    "###  Combat tracker (for conditions):\n",
    "* crit damage?\n",
    "* anger raised/lowered?\n",
    "* personality advanced?\n",
    "* physical/energy attack successful\n",
    "* physical/energy/event combat cards played\n"
   ]
  },
  {
   "cell_type": "markdown",
   "id": "7c0eb32b-a507-49b9-bf7b-d1a5d26907ee",
   "metadata": {
    "tags": []
   },
   "source": [
    "## TO DO"
   ]
  },
  {
   "cell_type": "code",
   "execution_count": null,
   "id": "17faa6a8-fca3-4810-abf1-c2f6d0ee079d",
   "metadata": {},
   "outputs": [],
   "source": [
    "### TO-DO\n",
    "# See if we can draw, discard, shuffle, search, etc\n",
    "\n",
    "\n",
    "# Fix the different sub zones: They should all have a Zone class, and each zone will be a subclass of Zone (this makes it so we don't have to repeat code)\n",
    "# Fix Hand to test drawing cards"
   ]
  }
 ],
 "metadata": {
  "kernelspec": {
   "display_name": "Python 3 (ipykernel)",
   "language": "python",
   "name": "python3"
  },
  "language_info": {
   "codemirror_mode": {
    "name": "ipython",
    "version": 3
   },
   "file_extension": ".py",
   "mimetype": "text/x-python",
   "name": "python",
   "nbconvert_exporter": "python",
   "pygments_lexer": "ipython3",
   "version": "3.11.4"
  }
 },
 "nbformat": 4,
 "nbformat_minor": 5
}
